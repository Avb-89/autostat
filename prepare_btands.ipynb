{
 "cells": [
  {
   "cell_type": "code",
   "execution_count": 1,
   "id": "e92a9fc7",
   "metadata": {},
   "outputs": [],
   "source": [
    "import spacy\n",
    "import pandas as pd\n",
    "import re"
   ]
  },
  {
   "cell_type": "code",
   "execution_count": 2,
   "id": "66cbb86f",
   "metadata": {},
   "outputs": [],
   "source": [
    "data = pd.read_csv('pledges - pledges.csv', delimiter='|')"
   ]
  },
  {
   "cell_type": "code",
   "execution_count": 25,
   "id": "65ce0276",
   "metadata": {},
   "outputs": [],
   "source": [
    "brands = set(data['Brand'].values)"
   ]
  },
  {
   "cell_type": "code",
   "execution_count": 12,
   "id": "07d9ac44",
   "metadata": {},
   "outputs": [
    {
     "name": "stdout",
     "output_type": "stream",
     "text": [
      "Collecting jsonlines\n",
      "  Downloading jsonlines-3.0.0-py3-none-any.whl (8.5 kB)\n",
      "Requirement already satisfied: attrs>=19.2.0 in /Library/Frameworks/Python.framework/Versions/3.10/lib/python3.10/site-packages (from jsonlines) (21.2.0)\n",
      "Installing collected packages: jsonlines\n",
      "Successfully installed jsonlines-3.0.0\n"
     ]
    }
   ],
   "source": [
    "!pip install jsonlines\n",
    "import jsonlines"
   ]
  },
  {
   "cell_type": "code",
   "execution_count": 29,
   "id": "91fb3c50",
   "metadata": {},
   "outputs": [],
   "source": [
    "items = []\n",
    "# brands.remove()\n",
    "brands = [str(x) for x in brands if str(x) != 'nan']\n",
    "brands = sorted(brands)\n",
    "for brand in brands:\n",
    "    items.append({\n",
    "        'id': brand,\n",
    "        'alias': [],\n",
    "        'regex': [],\n",
    "        'models': [],\n",
    "    })\n",
    "\n",
    "# with jsonlines.open('data/brands.jsonl', 'w') as writer:\n",
    "#     writer.write_all(items)"
   ]
  },
  {
   "cell_type": "code",
   "execution_count": null,
   "id": "61d62803",
   "metadata": {},
   "outputs": [],
   "source": []
  }
 ],
 "metadata": {
  "kernelspec": {
   "display_name": "Python 3 (ipykernel)",
   "language": "python",
   "name": "python3"
  },
  "language_info": {
   "codemirror_mode": {
    "name": "ipython",
    "version": 3
   },
   "file_extension": ".py",
   "mimetype": "text/x-python",
   "name": "python",
   "nbconvert_exporter": "python",
   "pygments_lexer": "ipython3",
   "version": "3.10.0"
  }
 },
 "nbformat": 4,
 "nbformat_minor": 5
}
