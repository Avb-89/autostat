{
 "cells": [
  {
   "cell_type": "code",
   "execution_count": 113,
   "id": "5a885dc2",
   "metadata": {},
   "outputs": [],
   "source": [
    "import spacy\n",
    "import pandas as pd\n",
    "import re"
   ]
  },
  {
   "cell_type": "code",
   "execution_count": 114,
   "id": "2445cf64",
   "metadata": {},
   "outputs": [
    {
     "name": "stdout",
     "output_type": "stream",
     "text": [
      "Requirement already satisfied: jsonlines in /Library/Frameworks/Python.framework/Versions/3.10/lib/python3.10/site-packages (3.0.0)\r\n",
      "Requirement already satisfied: attrs>=19.2.0 in /Library/Frameworks/Python.framework/Versions/3.10/lib/python3.10/site-packages (from jsonlines) (21.2.0)\r\n"
     ]
    }
   ],
   "source": [
    "!pip install jsonlines\n",
    "import jsonlines"
   ]
  },
  {
   "cell_type": "code",
   "execution_count": 126,
   "id": "13171b51",
   "metadata": {},
   "outputs": [],
   "source": [
    "data = pd.read_csv('pledges - pledges.csv', delimiter='|')"
   ]
  },
  {
   "cell_type": "code",
   "execution_count": 127,
   "id": "8c6f2525",
   "metadata": {},
   "outputs": [],
   "source": [
    "brands = []\n",
    "with jsonlines.open('data/brands.jsonl') as reader:\n",
    "    for brand in reader:\n",
    "        if len(brand['id']) > 2: brands.append(brand['id'])\n",
    "            \n",
    "        for alias in brand['alias']:\n",
    "            if len(alias) > 2: brands.append(alias)\n",
    "brands = [x.lower() for x in brands]"
   ]
  },
  {
   "cell_type": "code",
   "execution_count": 128,
   "id": "4a57fe23",
   "metadata": {},
   "outputs": [],
   "source": [
    "from functools import cmp_to_key\n",
    "brands = sorted(brands, key=cmp_to_key(lambda item1, item2: -1 if len(item2) - len(item1) < 0 else 1))\n",
    "\n",
    "reg = '('+'|'.join(brands)+')'\n",
    "str_with_space = []\n",
    "for index, row in data.iterrows():\n",
    "    str_with_space.append(' '.join(re.split(reg, row['vehicleproperty_description_short'], flags=re.IGNORECASE)))\n",
    "    \n",
    "data['with_space'] = str_with_space"
   ]
  },
  {
   "cell_type": "code",
   "execution_count": 129,
   "id": "783b33a9",
   "metadata": {},
   "outputs": [],
   "source": [
    "data.to_csv('pledges_prepare.csv', index=False)"
   ]
  },
  {
   "cell_type": "code",
   "execution_count": null,
   "id": "a2cab6c3",
   "metadata": {},
   "outputs": [],
   "source": []
  }
 ],
 "metadata": {
  "kernelspec": {
   "display_name": "Python 3 (ipykernel)",
   "language": "python",
   "name": "python3"
  },
  "language_info": {
   "codemirror_mode": {
    "name": "ipython",
    "version": 3
   },
   "file_extension": ".py",
   "mimetype": "text/x-python",
   "name": "python",
   "nbconvert_exporter": "python",
   "pygments_lexer": "ipython3",
   "version": "3.10.0"
  }
 },
 "nbformat": 4,
 "nbformat_minor": 5
}
