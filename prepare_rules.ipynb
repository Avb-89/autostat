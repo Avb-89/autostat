{
 "cells": [
  {
   "cell_type": "code",
   "execution_count": 1,
   "id": "14ad359e",
   "metadata": {},
   "outputs": [
    {
     "name": "stdout",
     "output_type": "stream",
     "text": [
      "Requirement already satisfied: jsonlines in /Library/Frameworks/Python.framework/Versions/3.10/lib/python3.10/site-packages (3.0.0)\n",
      "Requirement already satisfied: attrs>=19.2.0 in /Library/Frameworks/Python.framework/Versions/3.10/lib/python3.10/site-packages (from jsonlines) (21.2.0)\n"
     ]
    }
   ],
   "source": [
    "!pip install jsonlines\n",
    "import jsonlines"
   ]
  },
  {
   "cell_type": "code",
   "execution_count": 17,
   "id": "8d80e48b",
   "metadata": {},
   "outputs": [],
   "source": [
    "def list_lower(words_list):\n",
    "    list = []\n",
    "    for word in words_list.split():\n",
    "        list.append({\"LOWER\": word.lower()})\n",
    "    return list\n",
    "\n",
    "rules = []\n",
    "with jsonlines.open('data/brands.jsonl') as reader:\n",
    "    for brand in reader:\n",
    "        id_brand = brand['id'].lower()\n",
    "        \n",
    "        list = list_lower(brand['id'])\n",
    "        rules.append({\"label\": \"BRAND\", \"pattern\": list, \"id\": id_brand})\n",
    "        \n",
    "        for alias in (brand['alias']):\n",
    "            alias_list = list_lower(alias)\n",
    "            rules.append({\"label\": \"BRAND\", \"pattern\": alias_list, \"id\": id_brand})\n",
    "            \n",
    "with jsonlines.open('data/rules.jsonl', mode='w') as writer:\n",
    "    writer.write_all(rules)"
   ]
  },
  {
   "cell_type": "code",
   "execution_count": null,
   "id": "61b83e1e",
   "metadata": {},
   "outputs": [],
   "source": []
  }
 ],
 "metadata": {
  "kernelspec": {
   "display_name": "Python 3 (ipykernel)",
   "language": "python",
   "name": "python3"
  },
  "language_info": {
   "codemirror_mode": {
    "name": "ipython",
    "version": 3
   },
   "file_extension": ".py",
   "mimetype": "text/x-python",
   "name": "python",
   "nbconvert_exporter": "python",
   "pygments_lexer": "ipython3",
   "version": "3.10.0"
  }
 },
 "nbformat": 4,
 "nbformat_minor": 5
}
